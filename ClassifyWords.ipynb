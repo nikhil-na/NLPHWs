{
 "cells": [
  {
   "cell_type": "code",
   "execution_count": 8,
   "id": "71427aa9-1bad-4e8f-928b-60d53161353f",
   "metadata": {},
   "outputs": [],
   "source": [
    "import nltk\n",
    "from nltk.corpus import movie_reviews"
   ]
  },
  {
   "cell_type": "code",
   "execution_count": 30,
   "id": "74c35bc3-dd2e-4d1b-b972-c5c1bc6ee12e",
   "metadata": {},
   "outputs": [],
   "source": [
    "nltk.FreqDist(movie_reviews.words())\n",
    "all_words = nltk.FreqDist(word.lower() for word in movie_reviews.words())"
   ]
  },
  {
   "cell_type": "code",
   "execution_count": 53,
   "id": "6939221a-a623-4ee5-aad2-0e9ad296c38d",
   "metadata": {},
   "outputs": [],
   "source": [
    "len(list(all_words))\n",
    "word_features = list(all_words)[:2000]"
   ]
  },
  {
   "cell_type": "code",
   "execution_count": 42,
   "id": "dfd5ba8a-7a29-4651-a3af-81833e80f5bd",
   "metadata": {},
   "outputs": [],
   "source": [
    "documents = [([word for word in movie_reviews.words(fileid)], category) for category in movie_reviews.categories() for fileid in movie_reviews.fileids(category)]"
   ]
  },
  {
   "cell_type": "code",
   "execution_count": 90,
   "id": "1a82cb96-20a8-4c39-b6cc-9fbd1566ed91",
   "metadata": {},
   "outputs": [],
   "source": [
    "import random\n",
    "random.seed = 151515895\n",
    "random.shuffle(documents)"
   ]
  },
  {
   "cell_type": "code",
   "execution_count": 102,
   "id": "a80a63cd-767c-4ac9-8c7b-7d68e1d623dd",
   "metadata": {
    "scrolled": true
   },
   "outputs": [],
   "source": [
    "def document_features(document):\n",
    "    features = {}\n",
    "    document_words = set(document)\n",
    "    for word in word_features:\n",
    "        features['contains({})'.format(word)] = (word in document_words)\n",
    "    return features"
   ]
  },
  {
   "cell_type": "code",
   "execution_count": 92,
   "id": "e5a1ca36-aaad-4b7e-a64e-df8fa53689c6",
   "metadata": {},
   "outputs": [
    {
     "data": {
      "text/plain": [
       "2000"
      ]
     },
     "execution_count": 92,
     "metadata": {},
     "output_type": "execute_result"
    }
   ],
   "source": [
    "features_set = [(document_features(d), c) for (d,c) in documents]\n",
    "train_set, test_set = features_set[100:], features_set[:100]\n",
    "len(features_set)"
   ]
  },
  {
   "cell_type": "code",
   "execution_count": 93,
   "id": "5c02b548-80c9-4e8e-b9a9-db11f5199b6e",
   "metadata": {},
   "outputs": [],
   "source": [
    "classifier = nltk.NaiveBayesClassifier.train(train_set)"
   ]
  },
  {
   "cell_type": "code",
   "execution_count": 94,
   "id": "ae167512-1743-4bb9-9d3d-e9497c25a537",
   "metadata": {},
   "outputs": [
    {
     "data": {
      "text/plain": [
       "0.82"
      ]
     },
     "execution_count": 94,
     "metadata": {},
     "output_type": "execute_result"
    }
   ],
   "source": [
    "nltk.classify.accuracy(classifier, test_set)"
   ]
  },
  {
   "cell_type": "code",
   "execution_count": 95,
   "id": "02665ac7-6950-441c-8ee5-fab73f717dae",
   "metadata": {},
   "outputs": [
    {
     "name": "stdout",
     "output_type": "stream",
     "text": [
      "Most Informative Features\n",
      "   contains(outstanding) = True              pos : neg    =     10.9 : 1.0\n",
      "        contains(seagal) = True              neg : pos    =      8.4 : 1.0\n",
      "         contains(mulan) = True              pos : neg    =      7.5 : 1.0\n",
      "   contains(wonderfully) = True              pos : neg    =      7.3 : 1.0\n",
      "         contains(damon) = True              pos : neg    =      6.0 : 1.0\n"
     ]
    }
   ],
   "source": [
    "classifier.show_most_informative_features(5)"
   ]
  },
  {
   "cell_type": "code",
   "execution_count": 96,
   "id": "aebee4db-0956-4967-8d90-4e4d3b97f0e8",
   "metadata": {
    "scrolled": true
   },
   "outputs": [
    {
     "name": "stdout",
     "output_type": "stream",
     "text": [
      "    |  n  p |\n",
      "    |  e  o |\n",
      "    |  g  s |\n",
      "----+-------+\n",
      "neg |<53> 9 |\n",
      "pos |  9<29>|\n",
      "----+-------+\n",
      "(row = reference; col = test)\n",
      "\n"
     ]
    }
   ],
   "source": [
    "reference = [d[1] for d in test_set]\n",
    "test = [classifier.classify(d[0]) for d in test_set]\n",
    "print(nltk.ConfusionMatrix(reference=reference, test=test))"
   ]
  },
  {
   "cell_type": "code",
   "execution_count": 97,
   "id": "ce8207bc-5ab9-4f5a-81e4-9df21d1464fd",
   "metadata": {},
   "outputs": [
    {
     "name": "stdout",
     "output_type": "stream",
     "text": [
      "Recall = 0.7631578947368421\n"
     ]
    }
   ],
   "source": [
    "true_positive = 0 \n",
    "false_negative = 0 \n",
    "for data in test_set:\n",
    "    classify = classifier.classify(data[0])\n",
    "    if data[1] == \"pos\" and classify != \"pos\": false_negative += 1\n",
    "    if data[1] == \"pos\" and classify == \"pos\": true_positive += 1\n",
    "print(\"Recall = {}\".format(true_positive/(true_positive+false_negative)))"
   ]
  },
  {
   "cell_type": "code",
   "execution_count": 99,
   "id": "587af6c3-f7dc-4621-8e76-78d61353b90c",
   "metadata": {},
   "outputs": [
    {
     "name": "stdout",
     "output_type": "stream",
     "text": [
      "Precision = 0.7631578947368421\n"
     ]
    }
   ],
   "source": [
    "true_positive = 0 \n",
    "false_positive = 0 \n",
    "for data in test_set:\n",
    "    classify = classifier.classify(data[0])\n",
    "    if data[1] == \"neg\" and classify == \"pos\": false_positive += 1\n",
    "    if data[1] == \"pos\" and classify == \"pos\": true_positive += 1\n",
    "print(\"Precision = {}\".format(true_positive/(true_positive+false_positive)))"
   ]
  }
 ],
 "metadata": {
  "kernelspec": {
   "display_name": "Python 3 (ipykernel)",
   "language": "python",
   "name": "python3"
  },
  "language_info": {
   "codemirror_mode": {
    "name": "ipython",
    "version": 3
   },
   "file_extension": ".py",
   "mimetype": "text/x-python",
   "name": "python",
   "nbconvert_exporter": "python",
   "pygments_lexer": "ipython3",
   "version": "3.12.2"
  }
 },
 "nbformat": 4,
 "nbformat_minor": 5
}
