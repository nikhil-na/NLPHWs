{
 "cells": [
  {
   "cell_type": "code",
   "execution_count": 1,
   "id": "e8e4f105-fc94-4297-92fc-b17663e9d722",
   "metadata": {},
   "outputs": [],
   "source": [
    "import nltk, re"
   ]
  },
  {
   "cell_type": "code",
   "execution_count": 32,
   "id": "21b960e7-a6bf-4a13-ac65-9b206f516e90",
   "metadata": {},
   "outputs": [],
   "source": [
    "gettysburg = \"\"\"\n",
    "Four score and seven years ago our fathers brought forth on this continent, a new nation, conceived in Liberty, and dedicated to the proposition that all men are created equal.\n",
    "\n",
    "Now we are engaged in a great civil war, testing whether that nation, or any nation so conceived and so dedicated, can long endure. We are met on a great battle-field of that war. We have come to dedicate a portion of that field, as a final resting place for those who here gave their lives that that nation might live. It is altogether fitting and proper that we should do this.\n",
    "\n",
    "But, in a larger sense,x we can not dedicate -- we can not consecrate -- we can not hallow -- this ground. The brave men, living and dead, who struggled here, have consecrated it, far above our poor power to add or detract. The world will little note, nor long remember what we say here, but it can never forget what they did here. It is for us the living, rather, to be dedicated here to the unfinished work which they who fought here have thus far so nobly advanced. It is rather for us to be here dedicated to the great task remaining before us -- that from these honored dead we take increased devotion to that cause for which they gave the last full measure of devotion -- that we here highly resolve that these dead shall not have died in vain -- that this nation, under God, shall have a new birth of freedom -- and that government of the people, by the people, for the people, shall not perish from the earth.\n",
    "\n",
    "\"\"\""
   ]
  },
  {
   "cell_type": "code",
   "execution_count": 35,
   "id": "473ca72f-7525-4661-aab3-42cf2122180c",
   "metadata": {},
   "outputs": [
    {
     "name": "stdout",
     "output_type": "stream",
     "text": [
      "Length of unique tokens:  146\n"
     ]
    }
   ],
   "source": [
    "# Unique tokens\n",
    "unique_tokens = set(nltk.word_tokenize(gettysburg))\n",
    "print(\"Length of unique tokens: \", len(unique_tokens))"
   ]
  },
  {
   "cell_type": "code",
   "execution_count": 36,
   "id": "48131fc7-f188-425b-98ed-4b7df7d4e3ee",
   "metadata": {},
   "outputs": [
    {
     "name": "stdout",
     "output_type": "stream",
     "text": [
      "Number of unique stems:  136\n"
     ]
    }
   ],
   "source": [
    "unique_stems = {}\n",
    "for token in unique_tokens:\n",
    "    curr_stem = stemmer.stem(token)\n",
    "    if curr_stem in unique_stems:\n",
    "        unique_stems[curr_stem].append(token)\n",
    "    else:\n",
    "        unique_stems[curr_stem] = [token]\n",
    "print(\"Number of unique stems: \", len(unique_stems.keys()))"
   ]
  },
  {
   "cell_type": "code",
   "execution_count": 37,
   "id": "c675813e-d125-47bb-a477-2f07f20a379e",
   "metadata": {},
   "outputs": [
    {
     "name": "stdout",
     "output_type": "stream",
     "text": [
      "Most common stem:  liv\n",
      "Variations:  ['living', 'live', 'lives']\n"
     ]
    }
   ],
   "source": [
    "most_common_stem = max(unique_stems, key = lambda k: len(unique_stems[k]))\n",
    "variations = unique_stems[most_common_stem]\n",
    "print(\"Most common stem: \", most_common_stem)\n",
    "print(\"Variations: \", variations)"
   ]
  },
  {
   "cell_type": "code",
   "execution_count": null,
   "id": "694bb790-400c-4947-9801-228ad6ec50aa",
   "metadata": {},
   "outputs": [],
   "source": []
  },
  {
   "cell_type": "code",
   "execution_count": null,
   "id": "ca3d4e67-aad7-4ea3-87fe-e49456c68fb3",
   "metadata": {},
   "outputs": [],
   "source": []
  },
  {
   "cell_type": "code",
   "execution_count": null,
   "id": "5aece4c5-77c1-4ec1-8d5f-4299c07b47a8",
   "metadata": {},
   "outputs": [],
   "source": []
  },
  {
   "cell_type": "code",
   "execution_count": null,
   "id": "3fdb7156-e791-47e0-9dcc-df0167816195",
   "metadata": {},
   "outputs": [],
   "source": []
  },
  {
   "cell_type": "code",
   "execution_count": null,
   "id": "7e2eb3bd-0176-4024-8eca-8803eab6b36c",
   "metadata": {},
   "outputs": [],
   "source": []
  },
  {
   "cell_type": "code",
   "execution_count": null,
   "id": "bd057d70-5eaa-4c8d-9eeb-c18655a191ab",
   "metadata": {},
   "outputs": [],
   "source": []
  },
  {
   "cell_type": "code",
   "execution_count": null,
   "id": "5894d14b-fa05-4501-9827-ddba08bcc540",
   "metadata": {},
   "outputs": [],
   "source": []
  }
 ],
 "metadata": {
  "kernelspec": {
   "display_name": "Python 3 (ipykernel)",
   "language": "python",
   "name": "python3"
  },
  "language_info": {
   "codemirror_mode": {
    "name": "ipython",
    "version": 3
   },
   "file_extension": ".py",
   "mimetype": "text/x-python",
   "name": "python",
   "nbconvert_exporter": "python",
   "pygments_lexer": "ipython3",
   "version": "3.12.2"
  }
 },
 "nbformat": 4,
 "nbformat_minor": 5
}
