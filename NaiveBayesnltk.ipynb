{
 "cells": [
  {
   "cell_type": "code",
   "execution_count": 6,
   "id": "17cf30a7-89ba-4fd1-8b57-c6d468792def",
   "metadata": {},
   "outputs": [],
   "source": [
    "import nltk\n",
    "from nltk.corpus import names"
   ]
  },
  {
   "cell_type": "code",
   "execution_count": 48,
   "id": "4546acf7-1a54-4d79-bc20-a24652da6954",
   "metadata": {},
   "outputs": [
    {
     "data": {
      "text/plain": [
       "{'last_name': 'l'}"
      ]
     },
     "execution_count": 48,
     "metadata": {},
     "output_type": "execute_result"
    }
   ],
   "source": [
    "def get_features(name):\n",
    "    return {'last_name': name[-1]}\n",
    "get_features(\"nikhil\")"
   ]
  },
  {
   "cell_type": "code",
   "execution_count": 15,
   "id": "215d1e32-1d3e-448b-9f03-077566582a9a",
   "metadata": {},
   "outputs": [
    {
     "data": {
      "text/plain": [
       "['female.txt', 'male.txt']"
      ]
     },
     "execution_count": 15,
     "metadata": {},
     "output_type": "execute_result"
    }
   ],
   "source": [
    "names.fileids()"
   ]
  },
  {
   "cell_type": "code",
   "execution_count": 21,
   "id": "25825959-1440-4c38-b7c6-d568a9d411f0",
   "metadata": {},
   "outputs": [
    {
     "data": {
      "text/plain": [
       "[({'last_name': 'r'}, 'male'),\n",
       " ({'last_name': 'n'}, 'male'),\n",
       " ({'last_name': 'y'}, 'male')]"
      ]
     },
     "execution_count": 21,
     "metadata": {},
     "output_type": "execute_result"
    }
   ],
   "source": [
    "feature_set = [(get_features(name), \"male\") for name in names.words(\"male.txt\")] + [(get_features(name), \"female\") for name in names.words(\"female.txt\")]\n",
    "feature_set[:3]"
   ]
  },
  {
   "cell_type": "code",
   "execution_count": 47,
   "id": "0ed308ac-dde4-4b78-a639-9231bc1d239c",
   "metadata": {},
   "outputs": [
    {
     "data": {
      "text/plain": [
       "[({'last_name': 'n'}, 'male'),\n",
       " ({'last_name': 'e'}, 'female'),\n",
       " ({'last_name': 'a'}, 'female'),\n",
       " ({'last_name': 'd'}, 'female')]"
      ]
     },
     "execution_count": 47,
     "metadata": {},
     "output_type": "execute_result"
    }
   ],
   "source": [
    "import random\n",
    "random.shuffle(feature_set)\n",
    "train_set = feature_set[:1000]\n",
    "test_set = feature_set[1000:]\n",
    "test_set[:4]"
   ]
  },
  {
   "cell_type": "code",
   "execution_count": 28,
   "id": "66b6009b-134b-4b0b-bc7d-560a0d3098a8",
   "metadata": {},
   "outputs": [
    {
     "name": "stdout",
     "output_type": "stream",
     "text": [
      "female\n",
      "0.7403513824884793\n"
     ]
    }
   ],
   "source": [
    "classifier = nltk.NaiveBayesClassifier.train(train_set)\n",
    "print(classifier.classify(get_features(\"navaraj\")))\n",
    "print(nltk.classify.accuracy(classifier, test_set))"
   ]
  },
  {
   "cell_type": "code",
   "execution_count": 46,
   "id": "3c7a3bd3-32ac-4c42-a725-7f9d3c5e2ea4",
   "metadata": {},
   "outputs": [
    {
     "data": {
      "text/plain": [
       "0.8419372006386375"
      ]
     },
     "execution_count": 46,
     "metadata": {},
     "output_type": "execute_result"
    }
   ],
   "source": [
    "true_positive = 0\n",
    "postive_class = 0\n",
    "for data in test_set:\n",
    "    classify = classifier.classify(data[0])\n",
    "    if classify == \"female\": postive_class += 1\n",
    "    if data[1] == \"female\" and classify == \"female\": true_positive += 1\n",
    "precision = true_positive / postive_class\n",
    "precision"
   ]
  },
  {
   "cell_type": "code",
   "execution_count": 45,
   "id": "b0a8b9b4-4789-4bcc-a99c-6faf4d47b316",
   "metadata": {},
   "outputs": [
    {
     "data": {
      "text/plain": [
       "0.723530756917448"
      ]
     },
     "execution_count": 45,
     "metadata": {},
     "output_type": "execute_result"
    }
   ],
   "source": [
    "true_positive = 0 \n",
    "postive_class = 0 \n",
    "for data in test_set:\n",
    "    classify = classifier.classify(data[0])\n",
    "    if data[1] == \"female\": postive_class += 1\n",
    "    if data[1] == \"female\" and classify == \"female\": true_positive += 1\n",
    "recall = true_positive / postive_class\n",
    "recall"
   ]
  }
 ],
 "metadata": {
  "kernelspec": {
   "display_name": "Python 3 (ipykernel)",
   "language": "python",
   "name": "python3"
  },
  "language_info": {
   "codemirror_mode": {
    "name": "ipython",
    "version": 3
   },
   "file_extension": ".py",
   "mimetype": "text/x-python",
   "name": "python",
   "nbconvert_exporter": "python",
   "pygments_lexer": "ipython3",
   "version": "3.12.2"
  }
 },
 "nbformat": 4,
 "nbformat_minor": 5
}
